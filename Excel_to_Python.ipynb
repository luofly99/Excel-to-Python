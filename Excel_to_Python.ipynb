{
 "cells": [
  {
   "cell_type": "markdown",
   "metadata": {},
   "source": [
    "# 数据表检查和数据清洗"
   ]
  },
  {
   "cell_type": "markdown",
   "metadata": {},
   "source": [
    "##  第二章 数据检查"
   ]
  },
  {
   "cell_type": "markdown",
   "metadata": {},
   "source": [
    "### 导入Excel表"
   ]
  },
  {
   "cell_type": "code",
   "execution_count": null,
   "metadata": {},
   "outputs": [],
   "source": [
    "# 导入Excel表\n",
    "import pandas as pd\n",
    "df = pd.read_excel(r'维护单201902测试.xlsx',sheet_name=0 )\n",
    "df.head(3)"
   ]
  },
  {
   "cell_type": "markdown",
   "metadata": {},
   "source": [
    "### 指定条件拆分一个Excel工作表成多个Excel文件\n",
    "- 先把原始文件用pandas读取，按分公司分割成多个Excel文件  \n",
    "- 再利用循环读取一个保存分公司片区的字典表，对每个分公司的明细进行进一步处理"
   ]
  },
  {
   "cell_type": "code",
   "execution_count": 161,
   "metadata": {},
   "outputs": [
    {
     "data": {
      "text/plain": [
       "'河池'"
      ]
     },
     "execution_count": 161,
     "metadata": {},
     "output_type": "execute_result"
    }
   ],
   "source": [
    "child_wb = df[df['所属区域'] == '宜州市']\n",
    "child_wb.loc[:,['片区']] = child_wb.loc[:,['片区']] .fillna(value='')\n",
    "pqarea = child_wb['片区'].unique()\n",
    "pqarea[0]"
   ]
  },
  {
   "cell_type": "code",
   "execution_count": null,
   "metadata": {},
   "outputs": [],
   "source": [
    "child_wb = df.loc[df['所属区域'] == '宜州市']\n",
    "child_wb.loc[:,['片区']] = child_wb.loc[:,['片区']] .fillna(value='')\n",
    "child_wb.head(3)\n",
    "#pqarea"
   ]
  },
  {
   "cell_type": "code",
   "execution_count": 162,
   "metadata": {},
   "outputs": [
    {
     "name": "stdout",
     "output_type": "stream",
     "text": [
      "拆分完成\n"
     ]
    }
   ],
   "source": [
    "# 拆分后的文件放置位置，路径的最后一个字符必须是空格？\n",
    "result_path =  r'C:\\Users\\12112\\Documents\\明细拆分\\ '\n",
    "# 获取拆分条件：所属区域(分公司),去重\n",
    "area_list = df['所属区域'].unique()\n",
    "# 按条件拆分后分别保存新的Excel文件\n",
    "for area in area_list:\n",
    "# 按所属区域选择多行\n",
    "    child_wb = df[df['所属区域'] == area]\n",
    "    child_wb.loc[:,['片区']] = child_wb.loc[:,['片区']] .fillna(value='')\n",
    "    pqarea = child_wb['片区'].unique()\n",
    "    child_wb.to_excel(result_path + pqarea[0] +'片区_'+ area + '.xlsx',sheet_name='工单明细',index = False)\n",
    "print('拆分完成')"
   ]
  },
  {
   "cell_type": "markdown",
   "metadata": {},
   "source": [
    "### Pandas连接MySQL数据库"
   ]
  },
  {
   "cell_type": "code",
   "execution_count": null,
   "metadata": {},
   "outputs": [],
   "source": [
    "import pymysql\n",
    "import pandas as pd\n",
    "import numpy as np\n",
    "# 打开数据库连接\n",
    "dbcon = pymysql.connect(host='10.0.28.20',user='root',passwd='root96335',charset='UTF8',db='gdata')\n",
    "sql = 'select * from whdtsb_201903'\n",
    "df2 = pd.read_sql(sql, dbcon)\n",
    "# 关闭数据库连接\n",
    "dbcon.close()\n",
    "\n",
    "# 用map+匿名格式化函数，把小数格式化为带 % 号的字符串，可以导出为字符串，但是不利于进一步分析数据，丢失了部分小数位还要再做一次转换回浮点数\n",
    "df2['满意率'] = (df2['满意']/df2['评价数']).map(lambda x:format(x,'.2%'))\n",
    "df2['城网工单处理及时率'] = (df2['城网未超时工单数']/df2['工单总数']).map(lambda x:format(x,'.2%'))\n",
    "df2\n",
    "\n",
    "# 只是在Dataframe显示时格式化为百分比，但是导出后还是浮点数格式\n",
    "df2['满意率'] = (df2['满意']/df2['评价数'])\n",
    "df2 = df2.style.format({ '满意率': '{:,.2%}'.format})\n",
    "df2"
   ]
  },
  {
   "cell_type": "markdown",
   "metadata": {},
   "source": [
    "`DataFrame`保存为Excel文件，默认的文件保存位置和ipynb文件在同一个路径下"
   ]
  },
  {
   "cell_type": "code",
   "execution_count": 61,
   "metadata": {},
   "outputs": [],
   "source": [
    "df2.to_excel('whdtsb_201903.xlsx',sheet_name='201903透视表汇总')"
   ]
  },
  {
   "cell_type": "markdown",
   "metadata": {},
   "source": [
    "#### 从数据库中导出明细并按分公司分割为多个Excel文件"
   ]
  },
  {
   "cell_type": "code",
   "execution_count": 165,
   "metadata": {},
   "outputs": [
    {
     "name": "stderr",
     "output_type": "stream",
     "text": [
      "C:\\ProgramData\\Miniconda3\\lib\\site-packages\\pandas\\core\\indexing.py:190: SettingWithCopyWarning: \n",
      "A value is trying to be set on a copy of a slice from a DataFrame\n",
      "\n",
      "See the caveats in the documentation: http://pandas.pydata.org/pandas-docs/stable/indexing.html#indexing-view-versus-copy\n",
      "  self._setitem_with_indexer(indexer, value)\n",
      "C:\\ProgramData\\Miniconda3\\lib\\site-packages\\ipykernel_launcher.py:16: SettingWithCopyWarning: \n",
      "A value is trying to be set on a copy of a slice from a DataFrame\n",
      "\n",
      "See the caveats in the documentation: http://pandas.pydata.org/pandas-docs/stable/indexing.html#indexing-view-versus-copy\n",
      "  app.launch_new_instance()\n"
     ]
    },
    {
     "name": "stdout",
     "output_type": "stream",
     "text": [
      "拆分完成\n"
     ]
    }
   ],
   "source": [
    "import pymysql\n",
    "import pandas as pd\n",
    "import numpy as np\n",
    "# 打开数据库连接\n",
    "dbcon = pymysql.connect(host='10.0.28.20',user='root',passwd='root96335',charset='UTF8',db='gdata')\n",
    "sql = 'select * from 维护工单抽取'\n",
    "df_whgd = pd.read_sql(sql, dbcon)\n",
    "# 拆分后的文件放置位置，路径的最后一个字符必须是空格？\n",
    "result_path =  r'C:\\Users\\12112\\Documents\\mysql维护工单抽取明细拆分\\ '\n",
    "# 获取拆分条件：所属区域(分公司),去重\n",
    "area_list = df_whgd['所属区域'].unique()\n",
    "# 按条件拆分后分别保存新的Excel文件\n",
    "for area in area_list:\n",
    "# 按所属区域选择多行\n",
    "    child_wb = df_whgd[df_whgd['所属区域'] == area]\n",
    "    child_wb.loc[:,['片区']] = child_wb.loc[:,['片区']] .fillna(value='')\n",
    "    pqarea = child_wb['片区'].unique()\n",
    "    child_wb.to_excel(result_path + pqarea[0] +'片区_'+ area + '.xlsx',sheet_name='工单明细',index = False)\n",
    "print('拆分完成')\n",
    "# 关闭数据库连接\n",
    "dbcon.close()"
   ]
  },
  {
   "cell_type": "markdown",
   "metadata": {},
   "source": [
    "### 查看数据表信息"
   ]
  },
  {
   "cell_type": "code",
   "execution_count": null,
   "metadata": {},
   "outputs": [],
   "source": [
    "#数据表信息\n",
    "df.info()"
   ]
  },
  {
   "cell_type": "markdown",
   "metadata": {},
   "source": [
    "### 查看数据表各列格式"
   ]
  },
  {
   "cell_type": "code",
   "execution_count": null,
   "metadata": {},
   "outputs": [],
   "source": [
    "#查看数据表各列格式\n",
    "df.dtypes"
   ]
  },
  {
   "cell_type": "markdown",
   "metadata": {},
   "source": [
    "### 查看单列格式"
   ]
  },
  {
   "cell_type": "code",
   "execution_count": null,
   "metadata": {},
   "outputs": [],
   "source": [
    "#查看单列格式\n",
    "df['城网是否超时'].dtypes"
   ]
  },
  {
   "cell_type": "markdown",
   "metadata": {},
   "source": [
    "### 对整个表检查数据空值"
   ]
  },
  {
   "cell_type": "code",
   "execution_count": null,
   "metadata": {},
   "outputs": [],
   "source": [
    "#对整个表检查数据空值\n",
    "df.isnull()"
   ]
  },
  {
   "cell_type": "markdown",
   "metadata": {},
   "source": [
    "### 检查特定列空值"
   ]
  },
  {
   "cell_type": "code",
   "execution_count": null,
   "metadata": {},
   "outputs": [],
   "source": [
    "#检查特定列空值\n",
    "df['工单原因1'].isnull()"
   ]
  },
  {
   "cell_type": "markdown",
   "metadata": {},
   "source": [
    "### 删除空行"
   ]
  },
  {
   "cell_type": "code",
   "execution_count": null,
   "metadata": {},
   "outputs": [],
   "source": [
    "df.dropna(how='all')"
   ]
  },
  {
   "cell_type": "markdown",
   "metadata": {},
   "source": [
    "### 查看某列中的唯一值"
   ]
  },
  {
   "cell_type": "code",
   "execution_count": 74,
   "metadata": {},
   "outputs": [
    {
     "data": {
      "text/plain": [
       "array(['谭本荣', '李海燕', '周国增', ..., '黄益民', '陆锦秀', '黎水兰'], dtype=object)"
      ]
     },
     "execution_count": 74,
     "metadata": {},
     "output_type": "execute_result"
    }
   ],
   "source": [
    "#查看 某列中的唯一值，相当于去重之后的效果\n",
    "df['客户姓名'].unique()"
   ]
  },
  {
   "cell_type": "markdown",
   "metadata": {},
   "source": [
    "### 查看数据表的值，以数组形式返回"
   ]
  },
  {
   "cell_type": "code",
   "execution_count": null,
   "metadata": {},
   "outputs": [],
   "source": [
    "# 查看数据表的值，以数组形式返回\n",
    "df.values"
   ]
  },
  {
   "cell_type": "markdown",
   "metadata": {},
   "source": [
    "### 查看列名称"
   ]
  },
  {
   "cell_type": "code",
   "execution_count": 33,
   "metadata": {},
   "outputs": [
    {
     "data": {
      "text/plain": [
       "Index(['工单编号', '工单来源', '片区', '所属区域', '来电号码', '受理编号', '客户姓名', '网络类型', '客户地址',\n",
       "       '第一次到分公司调度环节', '客户类型', 'VIP客户等级', '工单类型', '服务类型', '分公司处理部门', '分公司回单工号',\n",
       "       '分公司处理人员', '最后一次到呼叫中心回访环节', '分公司回单内容', '回访时间', '回访结果', '工单满意', '不满意原因',\n",
       "       '不满意对象', '满意度定性', '是否及时预约', '回访处理意见', '投诉有效性', '投诉性质', '投诉定性', '投诉原因',\n",
       "       '投诉对象', '定性人', '是否申请延时', '延时时长', '问题是否解决', '第一次到工单处理环节', '撤销时间', '是否撤销',\n",
       "       '环节历时', '是否12小时办结', '是否24小时办结', '是否超48小时办结', '是否48小时办结', '最后环节',\n",
       "       '需求描述1', '需求描述2', '需求描述3', '需求描述4', 'BOSS区域', '网格编码', '网格名称', '维护人员',\n",
       "       '工单原因1', '工单原因2', '工单原因3', '机顶盒号', '是否6小时办结', '环节历时2', '是否18时前受理',\n",
       "       '城网是否超时', '农网是否超时'],\n",
       "      dtype='object')"
      ]
     },
     "execution_count": 33,
     "metadata": {},
     "output_type": "execute_result"
    }
   ],
   "source": [
    "#查看列名称\n",
    "df.columns"
   ]
  },
  {
   "cell_type": "markdown",
   "metadata": {},
   "source": [
    "### 查看前3行数据"
   ]
  },
  {
   "cell_type": "code",
   "execution_count": null,
   "metadata": {},
   "outputs": [],
   "source": [
    "# 查看前3行数据\n",
    "df.head(5)"
   ]
  },
  {
   "cell_type": "markdown",
   "metadata": {},
   "source": [
    "### 查看最后3行"
   ]
  },
  {
   "cell_type": "code",
   "execution_count": null,
   "metadata": {},
   "outputs": [],
   "source": [
    "#查看最后3行\n",
    "df.tail(5)"
   ]
  },
  {
   "cell_type": "markdown",
   "metadata": {},
   "source": [
    "## 第三章 数据清洗\n",
    "### 填充数据表中空值"
   ]
  },
  {
   "cell_type": "code",
   "execution_count": null,
   "metadata": {},
   "outputs": [],
   "source": [
    "#填充数据表中空值\n",
    "df.fillna(value='')"
   ]
  },
  {
   "cell_type": "markdown",
   "metadata": {},
   "source": [
    "### 清除city字段中的字符空格"
   ]
  },
  {
   "cell_type": "code",
   "execution_count": null,
   "metadata": {},
   "outputs": [],
   "source": [
    "#清除city字段中的字符空格\n",
    "df['所属区域']=df['所属区域'].map(str.strip)\n",
    "df['所属区域']"
   ]
  },
  {
   "cell_type": "markdown",
   "metadata": {},
   "source": [
    "### 更改列数据格式"
   ]
  },
  {
   "cell_type": "code",
   "execution_count": null,
   "metadata": {},
   "outputs": [],
   "source": [
    "df['第一次到分公司调度环节'] = df['第一次到分公司调度环节'].fillna(value=0) # 将空值用0来填充\n",
    "# 更改列数据格式\n",
    "df['第一次到分公司调度环节'].astype('datetime64')  #  这样的操作并没有改变原始的数据框，而只是返回的一个拷贝\n",
    "df.dtypes   #这里会查看到类型没有发生变化"
   ]
  },
  {
   "cell_type": "code",
   "execution_count": null,
   "metadata": {},
   "outputs": [],
   "source": [
    "# 更改列数据格式\n",
    "# 想要真正的改变数据框，通常需要通过赋值来进行，比如\n",
    "df['第一次到分公司调度环节'] = df['第一次到分公司调度环节'].astype('datetime64')\n",
    "df.dtypes"
   ]
  },
  {
   "cell_type": "markdown",
   "metadata": {},
   "source": [
    "还有两种更可用的方法：\n",
    "- 自定义函数\n",
    "- 使用`pd.to_numeric()`，`pd.to_datetime()`函数"
   ]
  },
  {
   "cell_type": "markdown",
   "metadata": {},
   "source": [
    "### 更改列名称"
   ]
  },
  {
   "cell_type": "code",
   "execution_count": null,
   "metadata": {},
   "outputs": [],
   "source": [
    "# 更改列名称，要真正地改变列名称，需要通过赋值来进行：\n",
    "df = df.rename(columns={'所属区域':'分公司'})\n",
    "df.head(3)"
   ]
  },
  {
   "cell_type": "markdown",
   "metadata": {},
   "source": [
    "### 删除重复值\n",
    "默认情况下drop_duplicates()将删除后出现的重复值(与Excel逻辑一致)。增加keep='last'参数后将删除最先出现的重复值，保留最后的值。"
   ]
  },
  {
   "cell_type": "code",
   "execution_count": null,
   "metadata": {},
   "outputs": [],
   "source": [
    "df['来电号码'].drop_duplicates()"
   ]
  },
  {
   "cell_type": "markdown",
   "metadata": {},
   "source": [
    "### 数值修改及替换"
   ]
  },
  {
   "cell_type": "code",
   "execution_count": null,
   "metadata": {},
   "outputs": [],
   "source": [
    "df['客户姓名'].replace('谭本荣','谭本荣2')"
   ]
  },
  {
   "cell_type": "markdown",
   "metadata": {},
   "source": [
    "## 第四章 数据预处理\n",
    "### 数据表合并"
   ]
  },
  {
   "cell_type": "code",
   "execution_count": 102,
   "metadata": {},
   "outputs": [
    {
     "data": {
      "text/html": [
       "<div>\n",
       "<style scoped>\n",
       "    .dataframe tbody tr th:only-of-type {\n",
       "        vertical-align: middle;\n",
       "    }\n",
       "\n",
       "    .dataframe tbody tr th {\n",
       "        vertical-align: top;\n",
       "    }\n",
       "\n",
       "    .dataframe thead th {\n",
       "        text-align: right;\n",
       "    }\n",
       "</style>\n",
       "<table border=\"1\" class=\"dataframe\">\n",
       "  <thead>\n",
       "    <tr style=\"text-align: right;\">\n",
       "      <th></th>\n",
       "      <th>id</th>\n",
       "      <th>date</th>\n",
       "      <th>city</th>\n",
       "      <th>category-size</th>\n",
       "      <th>age</th>\n",
       "      <th>price</th>\n",
       "    </tr>\n",
       "  </thead>\n",
       "  <tbody>\n",
       "    <tr>\n",
       "      <th>0</th>\n",
       "      <td>1001</td>\n",
       "      <td>2013-01-02</td>\n",
       "      <td>bejing</td>\n",
       "      <td>100-A</td>\n",
       "      <td>23</td>\n",
       "      <td>1200</td>\n",
       "    </tr>\n",
       "    <tr>\n",
       "      <th>1</th>\n",
       "      <td>1002</td>\n",
       "      <td>2013-01-03</td>\n",
       "      <td>sh</td>\n",
       "      <td>100-B</td>\n",
       "      <td>44</td>\n",
       "      <td>3299</td>\n",
       "    </tr>\n",
       "    <tr>\n",
       "      <th>2</th>\n",
       "      <td>1003</td>\n",
       "      <td>2013-01-04</td>\n",
       "      <td>guangzhou</td>\n",
       "      <td>110-A</td>\n",
       "      <td>54</td>\n",
       "      <td>2133</td>\n",
       "    </tr>\n",
       "    <tr>\n",
       "      <th>3</th>\n",
       "      <td>1004</td>\n",
       "      <td>2013-01-05</td>\n",
       "      <td>shenzhen</td>\n",
       "      <td>110-C</td>\n",
       "      <td>32</td>\n",
       "      <td>5433</td>\n",
       "    </tr>\n",
       "    <tr>\n",
       "      <th>4</th>\n",
       "      <td>1005</td>\n",
       "      <td>2013-01-06</td>\n",
       "      <td>shanghai</td>\n",
       "      <td>201-A</td>\n",
       "      <td>34</td>\n",
       "      <td>3299</td>\n",
       "    </tr>\n",
       "    <tr>\n",
       "      <th>5</th>\n",
       "      <td>1009</td>\n",
       "      <td>2013-01-07</td>\n",
       "      <td>beijing</td>\n",
       "      <td>130-F</td>\n",
       "      <td>32</td>\n",
       "      <td>4432</td>\n",
       "    </tr>\n",
       "  </tbody>\n",
       "</table>\n",
       "</div>"
      ],
      "text/plain": [
       "     id       date       city category-size  age  price\n",
       "0  1001 2013-01-02     bejing         100-A   23   1200\n",
       "1  1002 2013-01-03         sh         100-B   44   3299\n",
       "2  1003 2013-01-04  guangzhou         110-A   54   2133\n",
       "3  1004 2013-01-05   shenzhen         110-C   32   5433\n",
       "4  1005 2013-01-06   shanghai         201-A   34   3299\n",
       "5  1009 2013-01-07    beijing         130-F   32   4432"
      ]
     },
     "execution_count": 102,
     "metadata": {},
     "output_type": "execute_result"
    }
   ],
   "source": [
    "df2=pd.read_excel(r'ExceltoPython.xlsx',sheet_name='Sheet1')\n",
    "df2"
   ]
  },
  {
   "cell_type": "code",
   "execution_count": 101,
   "metadata": {},
   "outputs": [
    {
     "data": {
      "text/html": [
       "<div>\n",
       "<style scoped>\n",
       "    .dataframe tbody tr th:only-of-type {\n",
       "        vertical-align: middle;\n",
       "    }\n",
       "\n",
       "    .dataframe tbody tr th {\n",
       "        vertical-align: top;\n",
       "    }\n",
       "\n",
       "    .dataframe thead th {\n",
       "        text-align: right;\n",
       "    }\n",
       "</style>\n",
       "<table border=\"1\" class=\"dataframe\">\n",
       "  <thead>\n",
       "    <tr style=\"text-align: right;\">\n",
       "      <th></th>\n",
       "      <th>id</th>\n",
       "      <th>gender</th>\n",
       "      <th>pay</th>\n",
       "      <th>m-point</th>\n",
       "    </tr>\n",
       "  </thead>\n",
       "  <tbody>\n",
       "    <tr>\n",
       "      <th>0</th>\n",
       "      <td>1001</td>\n",
       "      <td>male</td>\n",
       "      <td>Y</td>\n",
       "      <td>10</td>\n",
       "    </tr>\n",
       "    <tr>\n",
       "      <th>1</th>\n",
       "      <td>1002</td>\n",
       "      <td>female</td>\n",
       "      <td>N</td>\n",
       "      <td>12</td>\n",
       "    </tr>\n",
       "    <tr>\n",
       "      <th>2</th>\n",
       "      <td>1003</td>\n",
       "      <td>male</td>\n",
       "      <td>Y</td>\n",
       "      <td>20</td>\n",
       "    </tr>\n",
       "    <tr>\n",
       "      <th>3</th>\n",
       "      <td>1004</td>\n",
       "      <td>female</td>\n",
       "      <td>Y</td>\n",
       "      <td>40</td>\n",
       "    </tr>\n",
       "    <tr>\n",
       "      <th>4</th>\n",
       "      <td>1005</td>\n",
       "      <td>male</td>\n",
       "      <td>N</td>\n",
       "      <td>40</td>\n",
       "    </tr>\n",
       "    <tr>\n",
       "      <th>5</th>\n",
       "      <td>1006</td>\n",
       "      <td>female</td>\n",
       "      <td>Y</td>\n",
       "      <td>40</td>\n",
       "    </tr>\n",
       "    <tr>\n",
       "      <th>6</th>\n",
       "      <td>1007</td>\n",
       "      <td>male</td>\n",
       "      <td>N</td>\n",
       "      <td>30</td>\n",
       "    </tr>\n",
       "    <tr>\n",
       "      <th>7</th>\n",
       "      <td>1008</td>\n",
       "      <td>female</td>\n",
       "      <td>Y</td>\n",
       "      <td>20</td>\n",
       "    </tr>\n",
       "  </tbody>\n",
       "</table>\n",
       "</div>"
      ],
      "text/plain": [
       "     id  gender pay  m-point\n",
       "0  1001    male   Y       10\n",
       "1  1002  female   N       12\n",
       "2  1003    male   Y       20\n",
       "3  1004  female   Y       40\n",
       "4  1005    male   N       40\n",
       "5  1006  female   Y       40\n",
       "6  1007    male   N       30\n",
       "7  1008  female   Y       20"
      ]
     },
     "execution_count": 101,
     "metadata": {},
     "output_type": "execute_result"
    }
   ],
   "source": [
    "df1=pd.read_excel(r'ExceltoPython.xlsx',sheet_name='Sheet2')\n",
    "df1"
   ]
  },
  {
   "cell_type": "markdown",
   "metadata": {},
   "source": [
    "#### 内连接"
   ]
  },
  {
   "cell_type": "code",
   "execution_count": 103,
   "metadata": {},
   "outputs": [
    {
     "data": {
      "text/html": [
       "<div>\n",
       "<style scoped>\n",
       "    .dataframe tbody tr th:only-of-type {\n",
       "        vertical-align: middle;\n",
       "    }\n",
       "\n",
       "    .dataframe tbody tr th {\n",
       "        vertical-align: top;\n",
       "    }\n",
       "\n",
       "    .dataframe thead th {\n",
       "        text-align: right;\n",
       "    }\n",
       "</style>\n",
       "<table border=\"1\" class=\"dataframe\">\n",
       "  <thead>\n",
       "    <tr style=\"text-align: right;\">\n",
       "      <th></th>\n",
       "      <th>id</th>\n",
       "      <th>date</th>\n",
       "      <th>city</th>\n",
       "      <th>category-size</th>\n",
       "      <th>age</th>\n",
       "      <th>price</th>\n",
       "      <th>gender</th>\n",
       "      <th>pay</th>\n",
       "      <th>m-point</th>\n",
       "    </tr>\n",
       "  </thead>\n",
       "  <tbody>\n",
       "    <tr>\n",
       "      <th>0</th>\n",
       "      <td>1001</td>\n",
       "      <td>2013-01-02</td>\n",
       "      <td>bejing</td>\n",
       "      <td>100-A</td>\n",
       "      <td>23</td>\n",
       "      <td>1200</td>\n",
       "      <td>male</td>\n",
       "      <td>Y</td>\n",
       "      <td>10</td>\n",
       "    </tr>\n",
       "    <tr>\n",
       "      <th>1</th>\n",
       "      <td>1002</td>\n",
       "      <td>2013-01-03</td>\n",
       "      <td>sh</td>\n",
       "      <td>100-B</td>\n",
       "      <td>44</td>\n",
       "      <td>3299</td>\n",
       "      <td>female</td>\n",
       "      <td>N</td>\n",
       "      <td>12</td>\n",
       "    </tr>\n",
       "    <tr>\n",
       "      <th>2</th>\n",
       "      <td>1003</td>\n",
       "      <td>2013-01-04</td>\n",
       "      <td>guangzhou</td>\n",
       "      <td>110-A</td>\n",
       "      <td>54</td>\n",
       "      <td>2133</td>\n",
       "      <td>male</td>\n",
       "      <td>Y</td>\n",
       "      <td>20</td>\n",
       "    </tr>\n",
       "    <tr>\n",
       "      <th>3</th>\n",
       "      <td>1004</td>\n",
       "      <td>2013-01-05</td>\n",
       "      <td>shenzhen</td>\n",
       "      <td>110-C</td>\n",
       "      <td>32</td>\n",
       "      <td>5433</td>\n",
       "      <td>female</td>\n",
       "      <td>Y</td>\n",
       "      <td>40</td>\n",
       "    </tr>\n",
       "    <tr>\n",
       "      <th>4</th>\n",
       "      <td>1005</td>\n",
       "      <td>2013-01-06</td>\n",
       "      <td>shanghai</td>\n",
       "      <td>201-A</td>\n",
       "      <td>34</td>\n",
       "      <td>3299</td>\n",
       "      <td>male</td>\n",
       "      <td>N</td>\n",
       "      <td>40</td>\n",
       "    </tr>\n",
       "  </tbody>\n",
       "</table>\n",
       "</div>"
      ],
      "text/plain": [
       "     id       date       city category-size  age  price  gender pay  m-point\n",
       "0  1001 2013-01-02     bejing         100-A   23   1200    male   Y       10\n",
       "1  1002 2013-01-03         sh         100-B   44   3299  female   N       12\n",
       "2  1003 2013-01-04  guangzhou         110-A   54   2133    male   Y       20\n",
       "3  1004 2013-01-05   shenzhen         110-C   32   5433  female   Y       40\n",
       "4  1005 2013-01-06   shanghai         201-A   34   3299    male   N       40"
      ]
     },
     "execution_count": 103,
     "metadata": {},
     "output_type": "execute_result"
    }
   ],
   "source": [
    "df_inner = pd.merge(df2,df1,how='inner',on=['id'])\n",
    "df_inner"
   ]
  },
  {
   "cell_type": "markdown",
   "metadata": {},
   "source": [
    "#### 左外连接"
   ]
  },
  {
   "cell_type": "code",
   "execution_count": 104,
   "metadata": {},
   "outputs": [
    {
     "data": {
      "text/html": [
       "<div>\n",
       "<style scoped>\n",
       "    .dataframe tbody tr th:only-of-type {\n",
       "        vertical-align: middle;\n",
       "    }\n",
       "\n",
       "    .dataframe tbody tr th {\n",
       "        vertical-align: top;\n",
       "    }\n",
       "\n",
       "    .dataframe thead th {\n",
       "        text-align: right;\n",
       "    }\n",
       "</style>\n",
       "<table border=\"1\" class=\"dataframe\">\n",
       "  <thead>\n",
       "    <tr style=\"text-align: right;\">\n",
       "      <th></th>\n",
       "      <th>id</th>\n",
       "      <th>date</th>\n",
       "      <th>city</th>\n",
       "      <th>category-size</th>\n",
       "      <th>age</th>\n",
       "      <th>price</th>\n",
       "      <th>gender</th>\n",
       "      <th>pay</th>\n",
       "      <th>m-point</th>\n",
       "    </tr>\n",
       "  </thead>\n",
       "  <tbody>\n",
       "    <tr>\n",
       "      <th>0</th>\n",
       "      <td>1001</td>\n",
       "      <td>2013-01-02</td>\n",
       "      <td>bejing</td>\n",
       "      <td>100-A</td>\n",
       "      <td>23</td>\n",
       "      <td>1200</td>\n",
       "      <td>male</td>\n",
       "      <td>Y</td>\n",
       "      <td>10.0</td>\n",
       "    </tr>\n",
       "    <tr>\n",
       "      <th>1</th>\n",
       "      <td>1002</td>\n",
       "      <td>2013-01-03</td>\n",
       "      <td>sh</td>\n",
       "      <td>100-B</td>\n",
       "      <td>44</td>\n",
       "      <td>3299</td>\n",
       "      <td>female</td>\n",
       "      <td>N</td>\n",
       "      <td>12.0</td>\n",
       "    </tr>\n",
       "    <tr>\n",
       "      <th>2</th>\n",
       "      <td>1003</td>\n",
       "      <td>2013-01-04</td>\n",
       "      <td>guangzhou</td>\n",
       "      <td>110-A</td>\n",
       "      <td>54</td>\n",
       "      <td>2133</td>\n",
       "      <td>male</td>\n",
       "      <td>Y</td>\n",
       "      <td>20.0</td>\n",
       "    </tr>\n",
       "    <tr>\n",
       "      <th>3</th>\n",
       "      <td>1004</td>\n",
       "      <td>2013-01-05</td>\n",
       "      <td>shenzhen</td>\n",
       "      <td>110-C</td>\n",
       "      <td>32</td>\n",
       "      <td>5433</td>\n",
       "      <td>female</td>\n",
       "      <td>Y</td>\n",
       "      <td>40.0</td>\n",
       "    </tr>\n",
       "    <tr>\n",
       "      <th>4</th>\n",
       "      <td>1005</td>\n",
       "      <td>2013-01-06</td>\n",
       "      <td>shanghai</td>\n",
       "      <td>201-A</td>\n",
       "      <td>34</td>\n",
       "      <td>3299</td>\n",
       "      <td>male</td>\n",
       "      <td>N</td>\n",
       "      <td>40.0</td>\n",
       "    </tr>\n",
       "    <tr>\n",
       "      <th>5</th>\n",
       "      <td>1009</td>\n",
       "      <td>2013-01-07</td>\n",
       "      <td>beijing</td>\n",
       "      <td>130-F</td>\n",
       "      <td>32</td>\n",
       "      <td>4432</td>\n",
       "      <td>NaN</td>\n",
       "      <td>NaN</td>\n",
       "      <td>NaN</td>\n",
       "    </tr>\n",
       "  </tbody>\n",
       "</table>\n",
       "</div>"
      ],
      "text/plain": [
       "     id       date       city category-size  age  price  gender  pay  m-point\n",
       "0  1001 2013-01-02     bejing         100-A   23   1200    male    Y     10.0\n",
       "1  1002 2013-01-03         sh         100-B   44   3299  female    N     12.0\n",
       "2  1003 2013-01-04  guangzhou         110-A   54   2133    male    Y     20.0\n",
       "3  1004 2013-01-05   shenzhen         110-C   32   5433  female    Y     40.0\n",
       "4  1005 2013-01-06   shanghai         201-A   34   3299    male    N     40.0\n",
       "5  1009 2013-01-07    beijing         130-F   32   4432     NaN  NaN      NaN"
      ]
     },
     "execution_count": 104,
     "metadata": {},
     "output_type": "execute_result"
    }
   ],
   "source": [
    "df_left = pd.merge(df2,df1,how='left',on=['id'])\n",
    "df_left"
   ]
  },
  {
   "cell_type": "markdown",
   "metadata": {},
   "source": [
    "#### 右外连接"
   ]
  },
  {
   "cell_type": "code",
   "execution_count": 105,
   "metadata": {},
   "outputs": [
    {
     "data": {
      "text/html": [
       "<div>\n",
       "<style scoped>\n",
       "    .dataframe tbody tr th:only-of-type {\n",
       "        vertical-align: middle;\n",
       "    }\n",
       "\n",
       "    .dataframe tbody tr th {\n",
       "        vertical-align: top;\n",
       "    }\n",
       "\n",
       "    .dataframe thead th {\n",
       "        text-align: right;\n",
       "    }\n",
       "</style>\n",
       "<table border=\"1\" class=\"dataframe\">\n",
       "  <thead>\n",
       "    <tr style=\"text-align: right;\">\n",
       "      <th></th>\n",
       "      <th>id</th>\n",
       "      <th>date</th>\n",
       "      <th>city</th>\n",
       "      <th>category-size</th>\n",
       "      <th>age</th>\n",
       "      <th>price</th>\n",
       "      <th>gender</th>\n",
       "      <th>pay</th>\n",
       "      <th>m-point</th>\n",
       "    </tr>\n",
       "  </thead>\n",
       "  <tbody>\n",
       "    <tr>\n",
       "      <th>0</th>\n",
       "      <td>1001</td>\n",
       "      <td>2013-01-02</td>\n",
       "      <td>bejing</td>\n",
       "      <td>100-A</td>\n",
       "      <td>23.0</td>\n",
       "      <td>1200.0</td>\n",
       "      <td>male</td>\n",
       "      <td>Y</td>\n",
       "      <td>10</td>\n",
       "    </tr>\n",
       "    <tr>\n",
       "      <th>1</th>\n",
       "      <td>1002</td>\n",
       "      <td>2013-01-03</td>\n",
       "      <td>sh</td>\n",
       "      <td>100-B</td>\n",
       "      <td>44.0</td>\n",
       "      <td>3299.0</td>\n",
       "      <td>female</td>\n",
       "      <td>N</td>\n",
       "      <td>12</td>\n",
       "    </tr>\n",
       "    <tr>\n",
       "      <th>2</th>\n",
       "      <td>1003</td>\n",
       "      <td>2013-01-04</td>\n",
       "      <td>guangzhou</td>\n",
       "      <td>110-A</td>\n",
       "      <td>54.0</td>\n",
       "      <td>2133.0</td>\n",
       "      <td>male</td>\n",
       "      <td>Y</td>\n",
       "      <td>20</td>\n",
       "    </tr>\n",
       "    <tr>\n",
       "      <th>3</th>\n",
       "      <td>1004</td>\n",
       "      <td>2013-01-05</td>\n",
       "      <td>shenzhen</td>\n",
       "      <td>110-C</td>\n",
       "      <td>32.0</td>\n",
       "      <td>5433.0</td>\n",
       "      <td>female</td>\n",
       "      <td>Y</td>\n",
       "      <td>40</td>\n",
       "    </tr>\n",
       "    <tr>\n",
       "      <th>4</th>\n",
       "      <td>1005</td>\n",
       "      <td>2013-01-06</td>\n",
       "      <td>shanghai</td>\n",
       "      <td>201-A</td>\n",
       "      <td>34.0</td>\n",
       "      <td>3299.0</td>\n",
       "      <td>male</td>\n",
       "      <td>N</td>\n",
       "      <td>40</td>\n",
       "    </tr>\n",
       "    <tr>\n",
       "      <th>5</th>\n",
       "      <td>1006</td>\n",
       "      <td>NaT</td>\n",
       "      <td>NaN</td>\n",
       "      <td>NaN</td>\n",
       "      <td>NaN</td>\n",
       "      <td>NaN</td>\n",
       "      <td>female</td>\n",
       "      <td>Y</td>\n",
       "      <td>40</td>\n",
       "    </tr>\n",
       "    <tr>\n",
       "      <th>6</th>\n",
       "      <td>1007</td>\n",
       "      <td>NaT</td>\n",
       "      <td>NaN</td>\n",
       "      <td>NaN</td>\n",
       "      <td>NaN</td>\n",
       "      <td>NaN</td>\n",
       "      <td>male</td>\n",
       "      <td>N</td>\n",
       "      <td>30</td>\n",
       "    </tr>\n",
       "    <tr>\n",
       "      <th>7</th>\n",
       "      <td>1008</td>\n",
       "      <td>NaT</td>\n",
       "      <td>NaN</td>\n",
       "      <td>NaN</td>\n",
       "      <td>NaN</td>\n",
       "      <td>NaN</td>\n",
       "      <td>female</td>\n",
       "      <td>Y</td>\n",
       "      <td>20</td>\n",
       "    </tr>\n",
       "  </tbody>\n",
       "</table>\n",
       "</div>"
      ],
      "text/plain": [
       "     id       date       city category-size   age   price  gender pay  m-point\n",
       "0  1001 2013-01-02     bejing         100-A  23.0  1200.0    male   Y       10\n",
       "1  1002 2013-01-03         sh         100-B  44.0  3299.0  female   N       12\n",
       "2  1003 2013-01-04  guangzhou         110-A  54.0  2133.0    male   Y       20\n",
       "3  1004 2013-01-05   shenzhen         110-C  32.0  5433.0  female   Y       40\n",
       "4  1005 2013-01-06   shanghai         201-A  34.0  3299.0    male   N       40\n",
       "5  1006        NaT        NaN           NaN   NaN     NaN  female   Y       40\n",
       "6  1007        NaT        NaN           NaN   NaN     NaN    male   N       30\n",
       "7  1008        NaT        NaN           NaN   NaN     NaN  female   Y       20"
      ]
     },
     "execution_count": 105,
     "metadata": {},
     "output_type": "execute_result"
    }
   ],
   "source": [
    "df_right = pd.merge(df2,df1,how='right',on=['id'])\n",
    "df_right"
   ]
  },
  {
   "cell_type": "markdown",
   "metadata": {},
   "source": [
    "#### 全连接\n",
    "indicator的参数，如果置True的时候，输出结果会增加一列 ` _merge`，表示在哪些表中存在"
   ]
  },
  {
   "cell_type": "code",
   "execution_count": 111,
   "metadata": {},
   "outputs": [
    {
     "data": {
      "text/html": [
       "<div>\n",
       "<style scoped>\n",
       "    .dataframe tbody tr th:only-of-type {\n",
       "        vertical-align: middle;\n",
       "    }\n",
       "\n",
       "    .dataframe tbody tr th {\n",
       "        vertical-align: top;\n",
       "    }\n",
       "\n",
       "    .dataframe thead th {\n",
       "        text-align: right;\n",
       "    }\n",
       "</style>\n",
       "<table border=\"1\" class=\"dataframe\">\n",
       "  <thead>\n",
       "    <tr style=\"text-align: right;\">\n",
       "      <th></th>\n",
       "      <th>id</th>\n",
       "      <th>date</th>\n",
       "      <th>city</th>\n",
       "      <th>category-size</th>\n",
       "      <th>age</th>\n",
       "      <th>price</th>\n",
       "      <th>gender</th>\n",
       "      <th>pay</th>\n",
       "      <th>m-point</th>\n",
       "      <th>_merge</th>\n",
       "    </tr>\n",
       "  </thead>\n",
       "  <tbody>\n",
       "    <tr>\n",
       "      <th>0</th>\n",
       "      <td>1001</td>\n",
       "      <td>2013-01-02</td>\n",
       "      <td>bejing</td>\n",
       "      <td>100-A</td>\n",
       "      <td>23.0</td>\n",
       "      <td>1200.0</td>\n",
       "      <td>male</td>\n",
       "      <td>Y</td>\n",
       "      <td>10.0</td>\n",
       "      <td>both</td>\n",
       "    </tr>\n",
       "    <tr>\n",
       "      <th>1</th>\n",
       "      <td>1002</td>\n",
       "      <td>2013-01-03</td>\n",
       "      <td>sh</td>\n",
       "      <td>100-B</td>\n",
       "      <td>44.0</td>\n",
       "      <td>3299.0</td>\n",
       "      <td>female</td>\n",
       "      <td>N</td>\n",
       "      <td>12.0</td>\n",
       "      <td>both</td>\n",
       "    </tr>\n",
       "    <tr>\n",
       "      <th>2</th>\n",
       "      <td>1003</td>\n",
       "      <td>2013-01-04</td>\n",
       "      <td>guangzhou</td>\n",
       "      <td>110-A</td>\n",
       "      <td>54.0</td>\n",
       "      <td>2133.0</td>\n",
       "      <td>male</td>\n",
       "      <td>Y</td>\n",
       "      <td>20.0</td>\n",
       "      <td>both</td>\n",
       "    </tr>\n",
       "    <tr>\n",
       "      <th>3</th>\n",
       "      <td>1004</td>\n",
       "      <td>2013-01-05</td>\n",
       "      <td>shenzhen</td>\n",
       "      <td>110-C</td>\n",
       "      <td>32.0</td>\n",
       "      <td>5433.0</td>\n",
       "      <td>female</td>\n",
       "      <td>Y</td>\n",
       "      <td>40.0</td>\n",
       "      <td>both</td>\n",
       "    </tr>\n",
       "    <tr>\n",
       "      <th>4</th>\n",
       "      <td>1005</td>\n",
       "      <td>2013-01-06</td>\n",
       "      <td>shanghai</td>\n",
       "      <td>201-A</td>\n",
       "      <td>34.0</td>\n",
       "      <td>3299.0</td>\n",
       "      <td>male</td>\n",
       "      <td>N</td>\n",
       "      <td>40.0</td>\n",
       "      <td>both</td>\n",
       "    </tr>\n",
       "    <tr>\n",
       "      <th>5</th>\n",
       "      <td>1009</td>\n",
       "      <td>2013-01-07</td>\n",
       "      <td>beijing</td>\n",
       "      <td>130-F</td>\n",
       "      <td>32.0</td>\n",
       "      <td>4432.0</td>\n",
       "      <td>NaN</td>\n",
       "      <td>NaN</td>\n",
       "      <td>NaN</td>\n",
       "      <td>left_only</td>\n",
       "    </tr>\n",
       "    <tr>\n",
       "      <th>6</th>\n",
       "      <td>1006</td>\n",
       "      <td>NaT</td>\n",
       "      <td>NaN</td>\n",
       "      <td>NaN</td>\n",
       "      <td>NaN</td>\n",
       "      <td>NaN</td>\n",
       "      <td>female</td>\n",
       "      <td>Y</td>\n",
       "      <td>40.0</td>\n",
       "      <td>right_only</td>\n",
       "    </tr>\n",
       "    <tr>\n",
       "      <th>7</th>\n",
       "      <td>1007</td>\n",
       "      <td>NaT</td>\n",
       "      <td>NaN</td>\n",
       "      <td>NaN</td>\n",
       "      <td>NaN</td>\n",
       "      <td>NaN</td>\n",
       "      <td>male</td>\n",
       "      <td>N</td>\n",
       "      <td>30.0</td>\n",
       "      <td>right_only</td>\n",
       "    </tr>\n",
       "    <tr>\n",
       "      <th>8</th>\n",
       "      <td>1008</td>\n",
       "      <td>NaT</td>\n",
       "      <td>NaN</td>\n",
       "      <td>NaN</td>\n",
       "      <td>NaN</td>\n",
       "      <td>NaN</td>\n",
       "      <td>female</td>\n",
       "      <td>Y</td>\n",
       "      <td>20.0</td>\n",
       "      <td>right_only</td>\n",
       "    </tr>\n",
       "  </tbody>\n",
       "</table>\n",
       "</div>"
      ],
      "text/plain": [
       "     id       date       city category-size   age   price  gender  pay  \\\n",
       "0  1001 2013-01-02     bejing         100-A  23.0  1200.0    male    Y   \n",
       "1  1002 2013-01-03         sh         100-B  44.0  3299.0  female    N   \n",
       "2  1003 2013-01-04  guangzhou         110-A  54.0  2133.0    male    Y   \n",
       "3  1004 2013-01-05   shenzhen         110-C  32.0  5433.0  female    Y   \n",
       "4  1005 2013-01-06   shanghai         201-A  34.0  3299.0    male    N   \n",
       "5  1009 2013-01-07    beijing         130-F  32.0  4432.0     NaN  NaN   \n",
       "6  1006        NaT        NaN           NaN   NaN     NaN  female    Y   \n",
       "7  1007        NaT        NaN           NaN   NaN     NaN    male    N   \n",
       "8  1008        NaT        NaN           NaN   NaN     NaN  female    Y   \n",
       "\n",
       "   m-point      _merge  \n",
       "0     10.0        both  \n",
       "1     12.0        both  \n",
       "2     20.0        both  \n",
       "3     40.0        both  \n",
       "4     40.0        both  \n",
       "5      NaN   left_only  \n",
       "6     40.0  right_only  \n",
       "7     30.0  right_only  \n",
       "8     20.0  right_only  "
      ]
     },
     "execution_count": 111,
     "metadata": {},
     "output_type": "execute_result"
    }
   ],
   "source": [
    "df_outer = pd.merge(df2,df1,how='outer',on=['id'],indicator=True)\n",
    "df_outer"
   ]
  },
  {
   "cell_type": "markdown",
   "metadata": {},
   "source": [
    "### 设置索引列"
   ]
  },
  {
   "cell_type": "code",
   "execution_count": 113,
   "metadata": {},
   "outputs": [
    {
     "data": {
      "text/html": [
       "<div>\n",
       "<style scoped>\n",
       "    .dataframe tbody tr th:only-of-type {\n",
       "        vertical-align: middle;\n",
       "    }\n",
       "\n",
       "    .dataframe tbody tr th {\n",
       "        vertical-align: top;\n",
       "    }\n",
       "\n",
       "    .dataframe thead th {\n",
       "        text-align: right;\n",
       "    }\n",
       "</style>\n",
       "<table border=\"1\" class=\"dataframe\">\n",
       "  <thead>\n",
       "    <tr style=\"text-align: right;\">\n",
       "      <th></th>\n",
       "      <th></th>\n",
       "      <th>date</th>\n",
       "      <th>city</th>\n",
       "      <th>category-size</th>\n",
       "      <th>price</th>\n",
       "      <th>gender</th>\n",
       "      <th>pay</th>\n",
       "      <th>m-point</th>\n",
       "    </tr>\n",
       "    <tr>\n",
       "      <th>id</th>\n",
       "      <th>age</th>\n",
       "      <th></th>\n",
       "      <th></th>\n",
       "      <th></th>\n",
       "      <th></th>\n",
       "      <th></th>\n",
       "      <th></th>\n",
       "      <th></th>\n",
       "    </tr>\n",
       "  </thead>\n",
       "  <tbody>\n",
       "    <tr>\n",
       "      <th>1001</th>\n",
       "      <th>23</th>\n",
       "      <td>2013-01-02</td>\n",
       "      <td>bejing</td>\n",
       "      <td>100-A</td>\n",
       "      <td>1200</td>\n",
       "      <td>male</td>\n",
       "      <td>Y</td>\n",
       "      <td>10</td>\n",
       "    </tr>\n",
       "    <tr>\n",
       "      <th>1002</th>\n",
       "      <th>44</th>\n",
       "      <td>2013-01-03</td>\n",
       "      <td>sh</td>\n",
       "      <td>100-B</td>\n",
       "      <td>3299</td>\n",
       "      <td>female</td>\n",
       "      <td>N</td>\n",
       "      <td>12</td>\n",
       "    </tr>\n",
       "    <tr>\n",
       "      <th>1003</th>\n",
       "      <th>54</th>\n",
       "      <td>2013-01-04</td>\n",
       "      <td>guangzhou</td>\n",
       "      <td>110-A</td>\n",
       "      <td>2133</td>\n",
       "      <td>male</td>\n",
       "      <td>Y</td>\n",
       "      <td>20</td>\n",
       "    </tr>\n",
       "    <tr>\n",
       "      <th>1004</th>\n",
       "      <th>32</th>\n",
       "      <td>2013-01-05</td>\n",
       "      <td>shenzhen</td>\n",
       "      <td>110-C</td>\n",
       "      <td>5433</td>\n",
       "      <td>female</td>\n",
       "      <td>Y</td>\n",
       "      <td>40</td>\n",
       "    </tr>\n",
       "    <tr>\n",
       "      <th>1005</th>\n",
       "      <th>34</th>\n",
       "      <td>2013-01-06</td>\n",
       "      <td>shanghai</td>\n",
       "      <td>201-A</td>\n",
       "      <td>3299</td>\n",
       "      <td>male</td>\n",
       "      <td>N</td>\n",
       "      <td>40</td>\n",
       "    </tr>\n",
       "  </tbody>\n",
       "</table>\n",
       "</div>"
      ],
      "text/plain": [
       "               date       city category-size  price  gender pay  m-point\n",
       "id   age                                                                \n",
       "1001 23  2013-01-02     bejing         100-A   1200    male   Y       10\n",
       "1002 44  2013-01-03         sh         100-B   3299  female   N       12\n",
       "1003 54  2013-01-04  guangzhou         110-A   2133    male   Y       20\n",
       "1004 32  2013-01-05   shenzhen         110-C   5433  female   Y       40\n",
       "1005 34  2013-01-06   shanghai         201-A   3299    male   N       40"
      ]
     },
     "execution_count": 113,
     "metadata": {},
     "output_type": "execute_result"
    }
   ],
   "source": [
    "df_inner.set_index(['id','age'])"
   ]
  },
  {
   "cell_type": "code",
   "execution_count": null,
   "metadata": {},
   "outputs": [],
   "source": []
  }
 ],
 "metadata": {
  "kernelspec": {
   "display_name": "Python 3",
   "language": "python",
   "name": "python3"
  },
  "language_info": {
   "codemirror_mode": {
    "name": "ipython",
    "version": 3
   },
   "file_extension": ".py",
   "mimetype": "text/x-python",
   "name": "python",
   "nbconvert_exporter": "python",
   "pygments_lexer": "ipython3",
   "version": "3.6.5"
  },
  "toc": {
   "base_numbering": 1,
   "nav_menu": {},
   "number_sections": true,
   "sideBar": true,
   "skip_h1_title": false,
   "title_cell": "Table of Contents",
   "title_sidebar": "Contents",
   "toc_cell": false,
   "toc_position": {},
   "toc_section_display": true,
   "toc_window_display": true
  },
  "toc-autonumbering": true
 },
 "nbformat": 4,
 "nbformat_minor": 2
}
