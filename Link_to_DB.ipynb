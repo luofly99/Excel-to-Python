{
 "cells": [
  {
   "cell_type": "markdown",
   "metadata": {},
   "source": [
    "## Pandas连接MySQL数据库"
   ]
  },
  {
   "cell_type": "code",
   "execution_count": null,
   "metadata": {},
   "outputs": [],
   "source": [
    "import pymysql\n",
    "import pandas as pd\n",
    "import numpy as np\n",
    "# 打开数据库连接\n",
    "dbcon = pymysql.connect(host='10.0.28.20',user='root',passwd='root96335',charset='UTF8',db='gdata')\n",
    "sql = 'select * from whdtsb_201903'\n",
    "df2 = pd.read_sql(sql, dbcon)\n",
    "# 关闭数据库连接\n",
    "dbcon.close()\n",
    "\n",
    "# 用map+匿名格式化函数，把小数格式化为带 % 号的字符串，可以导出为字符串，但是不利于进一步分析数据，丢失了部分小数位还要再做一次转换回浮点数\n",
    "df2['满意率'] = (df2['满意']/df2['评价数']).map(lambda x:format(x,'.2%'))\n",
    "df2['城网工单处理及时率'] = (df2['城网未超时工单数']/df2['工单总数']).map(lambda x:format(x,'.2%'))\n",
    "df2\n",
    "\n",
    "# 只是在Dataframe显示时格式化为百分比，但是导出后还是浮点数格式\n",
    "df2['满意率'] = (df2['满意']/df2['评价数'])\n",
    "df2 = df2.style.format({ '满意率': '{:,.2%}'.format})\n",
    "df2"
   ]
  },
  {
   "cell_type": "markdown",
   "metadata": {},
   "source": [
    "`DataFrame`保存为Excel文件，默认的文件保存位置和ipynb文件在同一个路径下："
   ]
  },
  {
   "cell_type": "code",
   "execution_count": 61,
   "metadata": {},
   "outputs": [],
   "source": [
    "df2.to_excel('whdtsb_201903.xlsx',sheet_name='201903透视表汇总')"
   ]
  },
  {
   "cell_type": "markdown",
   "metadata": {},
   "source": [
    "## 从数据库中导出明细并按分公司分割为多个Excel文件"
   ]
  },
  {
   "cell_type": "code",
   "execution_count": 165,
   "metadata": {},
   "outputs": [
    {
     "name": "stderr",
     "output_type": "stream",
     "text": [
      "C:\\ProgramData\\Miniconda3\\lib\\site-packages\\pandas\\core\\indexing.py:190: SettingWithCopyWarning: \n",
      "A value is trying to be set on a copy of a slice from a DataFrame\n",
      "\n",
      "See the caveats in the documentation: http://pandas.pydata.org/pandas-docs/stable/indexing.html#indexing-view-versus-copy\n",
      "  self._setitem_with_indexer(indexer, value)\n",
      "C:\\ProgramData\\Miniconda3\\lib\\site-packages\\ipykernel_launcher.py:16: SettingWithCopyWarning: \n",
      "A value is trying to be set on a copy of a slice from a DataFrame\n",
      "\n",
      "See the caveats in the documentation: http://pandas.pydata.org/pandas-docs/stable/indexing.html#indexing-view-versus-copy\n",
      "  app.launch_new_instance()\n"
     ]
    },
    {
     "name": "stdout",
     "output_type": "stream",
     "text": [
      "拆分完成\n"
     ]
    }
   ],
   "source": [
    "import pymysql\n",
    "import pandas as pd\n",
    "import numpy as np\n",
    "# 打开数据库连接\n",
    "dbcon = pymysql.connect(host='10.0.28.20',user='root',passwd='root96335',charset='UTF8',db='gdata')\n",
    "sql = 'select * from 维护工单抽取'\n",
    "df_whgd = pd.read_sql(sql, dbcon)\n",
    "# 拆分后的文件放置位置，路径的最后一个字符必须是空格？\n",
    "result_path =  r'C:\\Users\\12112\\Documents\\mysql维护工单抽取明细拆分\\ '\n",
    "# 获取拆分条件：所属区域(分公司),去重\n",
    "area_list = df_whgd['所属区域'].unique()\n",
    "# 按条件拆分后分别保存新的Excel文件\n",
    "for area in area_list:\n",
    "# 按所属区域选择多行\n",
    "    child_wb = df_whgd[df_whgd['所属区域'] == area]\n",
    "    child_wb.loc[:,['片区']] = child_wb.loc[:,['片区']] .fillna(value='')\n",
    "    pqarea = child_wb['片区'].unique()\n",
    "    child_wb.to_excel(result_path + pqarea[0] +'片区_'+ area + '.xlsx',sheet_name='工单明细',index = False)\n",
    "print('拆分完成')\n",
    "# 关闭数据库连接\n",
    "dbcon.close()"
   ]
  }
 ],
 "metadata": {
  "kernelspec": {
   "display_name": "Python 3",
   "language": "python",
   "name": "python3"
  },
  "language_info": {
   "codemirror_mode": {
    "name": "ipython",
    "version": 3
   },
   "file_extension": ".py",
   "mimetype": "text/x-python",
   "name": "python",
   "nbconvert_exporter": "python",
   "pygments_lexer": "ipython3",
   "version": "3.7.1"
  }
 },
 "nbformat": 4,
 "nbformat_minor": 2
}
