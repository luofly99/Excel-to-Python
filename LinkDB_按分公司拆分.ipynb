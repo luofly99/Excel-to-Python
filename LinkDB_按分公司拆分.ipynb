{
 "cells": [
  {
   "cell_type": "markdown",
   "metadata": {},
   "source": [
    "# 连接MySQL数据库，按分公司拆分工单明细，保存为Excel文件"
   ]
  },
  {
   "cell_type": "markdown",
   "metadata": {},
   "source": [
    "## Pandas连接MySQL数据库"
   ]
  },
  {
   "cell_type": "code",
   "execution_count": null,
   "metadata": {},
   "outputs": [],
   "source": [
    "import pymysql\n",
    "import pandas as pd\n",
    "import numpy as np\n",
    "# 打开数据库连接\n",
    "dbcon = pymysql.connect(host='10.0.28.20',user='root',passwd='root96335',charset='UTF8',db='gdata')\n",
    "sql = 'select * from whdtsb_201903'\n",
    "df2 = pd.read_sql(sql, dbcon)\n",
    "# 关闭数据库连接\n",
    "dbcon.close()"
   ]
  },
  {
   "cell_type": "markdown",
   "metadata": {},
   "source": [
    "`DataFrame`保存为Excel文件，默认的文件保存位置和ipynb文件在同一个路径下："
   ]
  },
  {
   "cell_type": "code",
   "execution_count": 61,
   "metadata": {},
   "outputs": [],
   "source": [
    "df2.to_excel('whdtsb_201903.xlsx',sheet_name='201903透视表汇总')"
   ]
  },
  {
   "cell_type": "markdown",
   "metadata": {},
   "source": [
    "## 从数据库中导出明细并按分公司分割为多个Excel文件"
   ]
  },
  {
   "cell_type": "markdown",
   "metadata": {},
   "source": [
    "### 维护工单:按所属区域分割明细"
   ]
  },
  {
   "cell_type": "code",
   "execution_count": 4,
   "metadata": {},
   "outputs": [
    {
     "name": "stderr",
     "output_type": "stream",
     "text": [
      "C:\\ProgramData\\Anaconda3\\lib\\site-packages\\pandas\\core\\indexing.py:189: SettingWithCopyWarning: \n",
      "A value is trying to be set on a copy of a slice from a DataFrame\n",
      "\n",
      "See the caveats in the documentation: http://pandas.pydata.org/pandas-docs/stable/indexing.html#indexing-view-versus-copy\n",
      "  self._setitem_with_indexer(indexer, value)\n",
      "C:\\ProgramData\\Anaconda3\\lib\\site-packages\\ipykernel_launcher.py:16: SettingWithCopyWarning: \n",
      "A value is trying to be set on a copy of a slice from a DataFrame\n",
      "\n",
      "See the caveats in the documentation: http://pandas.pydata.org/pandas-docs/stable/indexing.html#indexing-view-versus-copy\n",
      "  app.launch_new_instance()\n"
     ]
    },
    {
     "name": "stdout",
     "output_type": "stream",
     "text": [
      "拆分完成\n"
     ]
    }
   ],
   "source": [
    "import pymysql\n",
    "import pandas as pd\n",
    "import numpy as np\n",
    "# 打开数据库连接\n",
    "dbcon = pymysql.connect(host='localhost',user='root',passwd='root96335',charset='UTF8',db='gdata')\n",
    "sql = 'select * from 维护工单抽取'\n",
    "df_whgd = pd.read_sql(sql, dbcon)\n",
    "# 拆分后的文件放置位置，路径的最后一个字符必须是空格？\n",
    "result_path =  r'D:\\Documents\\Python_Deal_DB\\201904维护单拆分\\ '\n",
    "# 获取拆分条件：所属区域(分公司),去重\n",
    "area_list = df_whgd['所属区域'].unique()\n",
    "# 按条件拆分后分别保存新的Excel文件\n",
    "for area in area_list:\n",
    "# 按所属区域选择多行\n",
    "    child_wb = df_whgd[df_whgd['所属区域'] == area]\n",
    "    child_wb.loc[:,['片区']] = child_wb.loc[:,['片区']] .fillna(value='')\n",
    "    pqarea = child_wb['片区'].unique()\n",
    "    child_wb.to_excel(result_path + pqarea[0] +'片区_'+ area + '_维护工单明细.xlsx',sheet_name='维护工单明细',index = False)\n",
    "print('拆分完成')\n",
    "# 关闭数据库连接\n",
    "dbcon.close()"
   ]
  },
  {
   "cell_type": "markdown",
   "metadata": {},
   "source": [
    "### 施工单:按所属区域分割明细"
   ]
  },
  {
   "cell_type": "code",
   "execution_count": 1,
   "metadata": {},
   "outputs": [
    {
     "name": "stderr",
     "output_type": "stream",
     "text": [
      "C:\\ProgramData\\Anaconda3\\lib\\site-packages\\pandas\\core\\indexing.py:189: SettingWithCopyWarning: \n",
      "A value is trying to be set on a copy of a slice from a DataFrame\n",
      "\n",
      "See the caveats in the documentation: http://pandas.pydata.org/pandas-docs/stable/indexing.html#indexing-view-versus-copy\n",
      "  self._setitem_with_indexer(indexer, value)\n",
      "C:\\ProgramData\\Anaconda3\\lib\\site-packages\\ipykernel_launcher.py:16: SettingWithCopyWarning: \n",
      "A value is trying to be set on a copy of a slice from a DataFrame\n",
      "\n",
      "See the caveats in the documentation: http://pandas.pydata.org/pandas-docs/stable/indexing.html#indexing-view-versus-copy\n",
      "  app.launch_new_instance()\n"
     ]
    },
    {
     "name": "stdout",
     "output_type": "stream",
     "text": [
      "拆分完成\n"
     ]
    }
   ],
   "source": [
    "import pymysql\n",
    "import pandas as pd\n",
    "import numpy as np\n",
    "# 打开数据库连接\n",
    "dbcon = pymysql.connect(host='localhost',user='root',passwd='root96335',charset='UTF8',db='gdata')\n",
    "sql = 'select * from sgd'\n",
    "df_whgd = pd.read_sql(sql, dbcon)\n",
    "# 拆分后的文件放置位置，路径的最后一个字符必须是空格？\n",
    "result_path =  r'D:\\Documents\\Python_Deal_DB\\201904施工单拆分\\ '\n",
    "# 获取拆分条件：所属区域(分公司),去重\n",
    "area_list = df_whgd['所属区域'].unique()\n",
    "# 按条件拆分后分别保存新的Excel文件\n",
    "for area in area_list:\n",
    "# 按所属区域选择多行\n",
    "    child_wb = df_whgd[df_whgd['所属区域'] == area]\n",
    "    child_wb.loc[:,['归属区域']] = child_wb.loc[:,['归属区域']] .fillna(value='')\n",
    "    pqarea = child_wb['归属区域'].unique()\n",
    "    child_wb.to_excel(result_path + pqarea[0] +'片区_'+ area + '_施工单明细.xlsx',sheet_name='施工单明细',index = False)\n",
    "print('拆分完成')\n",
    "# 关闭数据库连接\n",
    "dbcon.close()"
   ]
  },
  {
   "cell_type": "markdown",
   "metadata": {},
   "source": [
    "### 投诉单:按所属区域分割明细"
   ]
  },
  {
   "cell_type": "code",
   "execution_count": 7,
   "metadata": {},
   "outputs": [
    {
     "name": "stderr",
     "output_type": "stream",
     "text": [
      "C:\\ProgramData\\Anaconda3\\lib\\site-packages\\pandas\\core\\indexing.py:189: SettingWithCopyWarning: \n",
      "A value is trying to be set on a copy of a slice from a DataFrame\n",
      "\n",
      "See the caveats in the documentation: http://pandas.pydata.org/pandas-docs/stable/indexing.html#indexing-view-versus-copy\n",
      "  self._setitem_with_indexer(indexer, value)\n",
      "C:\\ProgramData\\Anaconda3\\lib\\site-packages\\ipykernel_launcher.py:16: SettingWithCopyWarning: \n",
      "A value is trying to be set on a copy of a slice from a DataFrame\n",
      "\n",
      "See the caveats in the documentation: http://pandas.pydata.org/pandas-docs/stable/indexing.html#indexing-view-versus-copy\n",
      "  app.launch_new_instance()\n"
     ]
    },
    {
     "name": "stdout",
     "output_type": "stream",
     "text": [
      "拆分完成\n"
     ]
    }
   ],
   "source": [
    "import pymysql\n",
    "import pandas as pd\n",
    "import numpy as np\n",
    "# 打开数据库连接\n",
    "dbcon = pymysql.connect(host='localhost',user='root',passwd='root96335',charset='UTF8',db='gdata')\n",
    "sql = 'select * from 投诉工单抽取'\n",
    "df_whgd = pd.read_sql(sql, dbcon)\n",
    "# 拆分后的文件放置位置，路径的最后一个字符必须是空格？\n",
    "result_path =  r'D:\\Documents\\Python_Deal_DB\\201904投诉单拆分\\ '\n",
    "# 获取拆分条件：所属区域(分公司),去重\n",
    "area_list = df_whgd['所属区域'].unique()\n",
    "# 按条件拆分后分别保存新的Excel文件\n",
    "for area in area_list:\n",
    "# 按所属区域选择多行\n",
    "    child_wb = df_whgd[df_whgd['所属区域'] == area]\n",
    "    child_wb.loc[:,['片区']] = child_wb.loc[:,['片区']] .fillna(value='')\n",
    "    pqarea = child_wb['片区'].unique()\n",
    "    child_wb.to_excel(result_path + pqarea[0] +'片区_'+ area + '_投诉工单明细.xlsx',sheet_name='投诉工单明细',index = False)\n",
    "print('拆分完成')\n",
    "# 关闭数据库连接\n",
    "dbcon.close()"
   ]
  },
  {
   "cell_type": "code",
   "execution_count": null,
   "metadata": {},
   "outputs": [],
   "source": []
  }
 ],
 "metadata": {
  "kernelspec": {
   "display_name": "Python 3",
   "language": "python",
   "name": "python3"
  },
  "language_info": {
   "codemirror_mode": {
    "name": "ipython",
    "version": 3
   },
   "file_extension": ".py",
   "mimetype": "text/x-python",
   "name": "python",
   "nbconvert_exporter": "python",
   "pygments_lexer": "ipython3",
   "version": "3.7.1"
  }
 },
 "nbformat": 4,
 "nbformat_minor": 2
}
