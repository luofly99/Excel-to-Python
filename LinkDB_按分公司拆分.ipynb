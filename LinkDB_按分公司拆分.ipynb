{
 "cells": [
  {
   "cell_type": "markdown",
   "metadata": {},
   "source": [
    "# 连接MySQL数据库，按分公司拆分工单明细，保存为Excel文件"
   ]
  },
  {
   "cell_type": "markdown",
   "metadata": {},
   "source": [
    "## Pandas连接MySQL数据库"
   ]
  },
  {
   "cell_type": "code",
   "execution_count": null,
   "metadata": {},
   "outputs": [],
   "source": [
    "import pymysql\n",
    "import pandas as pd\n",
    "import numpy as np\n",
    "# 打开数据库连接\n",
    "dbcon = pymysql.connect(host='10.0.28.20',user='root',passwd='root96335',charset='UTF8',db='gdata')\n",
    "sql = 'select * from whdtsb_201903'\n",
    "df2 = pd.read_sql(sql, dbcon)\n",
    "# 关闭数据库连接\n",
    "dbcon.close()"
   ]
  },
  {
   "cell_type": "markdown",
   "metadata": {},
   "source": [
    "`DataFrame`保存为Excel文件，默认的文件保存位置和ipynb文件在同一个路径下："
   ]
  },
  {
   "cell_type": "code",
   "execution_count": 61,
   "metadata": {},
   "outputs": [],
   "source": [
    "df2.to_excel('whdtsb_201903.xlsx',sheet_name='201903透视表汇总')"
   ]
  },
  {
   "cell_type": "markdown",
   "metadata": {},
   "source": [
    "## 从数据库中导出明细并按分公司分割为多个Excel文件"
   ]
  },
  {
   "cell_type": "markdown",
   "metadata": {},
   "source": [
    "### 维护工单:按所属区域分割明细"
   ]
  },
  {
   "cell_type": "code",
   "execution_count": 4,
   "metadata": {},
   "outputs": [
    {
     "name": "stderr",
     "output_type": "stream",
     "text": [
      "C:\\ProgramData\\Anaconda3\\lib\\site-packages\\pandas\\core\\indexing.py:189: SettingWithCopyWarning: \n",
      "A value is trying to be set on a copy of a slice from a DataFrame\n",
      "\n",
      "See the caveats in the documentation: http://pandas.pydata.org/pandas-docs/stable/indexing.html#indexing-view-versus-copy\n",
      "  self._setitem_with_indexer(indexer, value)\n",
      "C:\\ProgramData\\Anaconda3\\lib\\site-packages\\ipykernel_launcher.py:16: SettingWithCopyWarning: \n",
      "A value is trying to be set on a copy of a slice from a DataFrame\n",
      "\n",
      "See the caveats in the documentation: http://pandas.pydata.org/pandas-docs/stable/indexing.html#indexing-view-versus-copy\n",
      "  app.launch_new_instance()\n"
     ]
    },
    {
     "name": "stdout",
     "output_type": "stream",
     "text": [
      "拆分完成\n"
     ]
    }
   ],
   "source": [
    "import pymysql\n",
    "import pandas as pd\n",
    "import numpy as np\n",
    "# 打开数据库连接\n",
    "dbcon = pymysql.connect(host='localhost',user='root',passwd='root96335',charset='UTF8',db='gdata')\n",
    "sql = 'select * from 维护工单抽取'\n",
    "df_whgd = pd.read_sql(sql, dbcon)\n",
    "# 拆分后的文件放置位置，路径的最后一个字符必须是空格？\n",
    "result_path =  r'D:\\Documents\\Python_Deal_DB\\201904维护单拆分\\ '\n",
    "# 获取拆分条件：所属区域(分公司),去重\n",
    "area_list = df_whgd['所属区域'].unique()\n",
    "# 按条件拆分后分别保存新的Excel文件\n",
    "for area in area_list:\n",
    "# 按所属区域选择多行\n",
    "    child_wb = df_whgd[df_whgd['所属区域'] == area]\n",
    "    child_wb.loc[:,['片区']] = child_wb.loc[:,['片区']] .fillna(value='')\n",
    "    pqarea = child_wb['片区'].unique()\n",
    "    child_wb.to_excel(result_path + pqarea[0] +'片区_'+ area + '_维护工单明细.xlsx',sheet_name='维护工单明细',index = False)\n",
    "print('拆分完成')\n",
    "# 关闭数据库连接\n",
    "dbcon.close()"
   ]
  },
  {
   "cell_type": "markdown",
   "metadata": {},
   "source": [
    "### 施工单:按所属区域分割明细"
   ]
  },
  {
   "cell_type": "code",
   "execution_count": 1,
   "metadata": {},
   "outputs": [
    {
     "name": "stderr",
     "output_type": "stream",
     "text": [
      "C:\\ProgramData\\Anaconda3\\lib\\site-packages\\pandas\\core\\indexing.py:189: SettingWithCopyWarning: \n",
      "A value is trying to be set on a copy of a slice from a DataFrame\n",
      "\n",
      "See the caveats in the documentation: http://pandas.pydata.org/pandas-docs/stable/indexing.html#indexing-view-versus-copy\n",
      "  self._setitem_with_indexer(indexer, value)\n",
      "C:\\ProgramData\\Anaconda3\\lib\\site-packages\\ipykernel_launcher.py:16: SettingWithCopyWarning: \n",
      "A value is trying to be set on a copy of a slice from a DataFrame\n",
      "\n",
      "See the caveats in the documentation: http://pandas.pydata.org/pandas-docs/stable/indexing.html#indexing-view-versus-copy\n",
      "  app.launch_new_instance()\n"
     ]
    },
    {
     "name": "stdout",
     "output_type": "stream",
     "text": [
      "拆分完成\n"
     ]
    }
   ],
   "source": [
    "import pymysql\n",
    "import pandas as pd\n",
    "import numpy as np\n",
    "# 打开数据库连接\n",
    "dbcon = pymysql.connect(host='localhost',user='root',passwd='root96335',charset='UTF8',db='gdata')\n",
    "sql = 'select * from sgd'\n",
    "df_whgd = pd.read_sql(sql, dbcon)\n",
    "# 拆分后的文件放置位置，路径的最后一个字符必须是空格？\n",
    "result_path =  r'D:\\Documents\\Python_Deal_DB\\201904施工单拆分\\ '\n",
    "# 获取拆分条件：所属区域(分公司),去重\n",
    "area_list = df_whgd['所属区域'].unique()\n",
    "# 按条件拆分后分别保存新的Excel文件\n",
    "for area in area_list:\n",
    "# 按所属区域选择多行\n",
    "    child_wb = df_whgd[df_whgd['所属区域'] == area]\n",
    "    child_wb.loc[:,['归属区域']] = child_wb.loc[:,['归属区域']] .fillna(value='')\n",
    "    pqarea = child_wb['归属区域'].unique()\n",
    "    child_wb.to_excel(result_path + pqarea[0] +'片区_'+ area + '_施工单明细.xlsx',sheet_name='施工单明细',index = False)\n",
    "print('拆分完成')\n",
    "# 关闭数据库连接\n",
    "dbcon.close()"
   ]
  },
  {
   "cell_type": "markdown",
   "metadata": {},
   "source": [
    "### 投诉单:按所属区域分割明细"
   ]
  },
  {
   "cell_type": "code",
   "execution_count": 7,
   "metadata": {},
   "outputs": [
    {
     "name": "stderr",
     "output_type": "stream",
     "text": [
      "C:\\ProgramData\\Anaconda3\\lib\\site-packages\\pandas\\core\\indexing.py:189: SettingWithCopyWarning: \n",
      "A value is trying to be set on a copy of a slice from a DataFrame\n",
      "\n",
      "See the caveats in the documentation: http://pandas.pydata.org/pandas-docs/stable/indexing.html#indexing-view-versus-copy\n",
      "  self._setitem_with_indexer(indexer, value)\n",
      "C:\\ProgramData\\Anaconda3\\lib\\site-packages\\ipykernel_launcher.py:16: SettingWithCopyWarning: \n",
      "A value is trying to be set on a copy of a slice from a DataFrame\n",
      "\n",
      "See the caveats in the documentation: http://pandas.pydata.org/pandas-docs/stable/indexing.html#indexing-view-versus-copy\n",
      "  app.launch_new_instance()\n"
     ]
    },
    {
     "name": "stdout",
     "output_type": "stream",
     "text": [
      "拆分完成\n"
     ]
    }
   ],
   "source": [
    "import pymysql\n",
    "import pandas as pd\n",
    "import numpy as np\n",
    "# 打开数据库连接\n",
    "dbcon = pymysql.connect(host='localhost',user='root',passwd='root96335',charset='UTF8',db='gdata')\n",
    "sql = 'select * from 投诉工单抽取'\n",
    "df_whgd = pd.read_sql(sql, dbcon)\n",
    "# 拆分后的文件放置位置，路径的最后一个字符必须是空格？\n",
    "result_path =  r'D:\\Documents\\Python_Deal_DB\\201904投诉单拆分\\ '\n",
    "# 获取拆分条件：所属区域(分公司),去重\n",
    "area_list = df_whgd['所属区域'].unique()\n",
    "# 按条件拆分后分别保存新的Excel文件\n",
    "for area in area_list:\n",
    "# 按所属区域选择多行\n",
    "    child_wb = df_whgd[df_whgd['所属区域'] == area]\n",
    "    child_wb.loc[:,['片区']] = child_wb.loc[:,['片区']] .fillna(value='')\n",
    "    pqarea = child_wb['片区'].unique()\n",
    "    child_wb.to_excel(result_path + pqarea[0] +'片区_'+ area + '_投诉工单明细.xlsx',sheet_name='投诉工单明细',index = False)\n",
    "print('拆分完成')\n",
    "# 关闭数据库连接\n",
    "dbcon.close()"
   ]
  },
  {
   "cell_type": "markdown",
   "metadata": {},
   "source": [
    "### 将结果写入多个sheet"
   ]
  },
  {
   "cell_type": "code",
   "execution_count": 61,
   "metadata": {},
   "outputs": [
    {
     "name": "stdout",
     "output_type": "stream",
     "text": [
      "C:\\Users\\12112\\Documents\\工单\\南宁片区_南宁_工单明细.xlsx\n",
      "C:\\Users\\12112\\Documents\\工单\\南宁片区_宾阳_工单明细.xlsx\n",
      "C:\\Users\\12112\\Documents\\工单\\南宁片区_武鸣_工单明细.xlsx\n",
      "C:\\Users\\12112\\Documents\\工单\\南宁片区_上林_工单明细.xlsx\n",
      "C:\\Users\\12112\\Documents\\工单\\南宁片区_马山_工单明细.xlsx\n",
      "C:\\Users\\12112\\Documents\\工单\\南宁片区_横县_工单明细.xlsx\n",
      "C:\\Users\\12112\\Documents\\工单\\南宁片区_隆安_工单明细.xlsx\n",
      "C:\\Users\\12112\\Documents\\工单\\柳州片区_柳州_工单明细.xlsx\n",
      "C:\\Users\\12112\\Documents\\工单\\柳州片区_三江_工单明细.xlsx\n",
      "C:\\Users\\12112\\Documents\\工单\\柳州片区_融安_工单明细.xlsx\n",
      "C:\\Users\\12112\\Documents\\工单\\柳州片区_融水_工单明细.xlsx\n",
      "C:\\Users\\12112\\Documents\\工单\\柳州片区_柳江_工单明细.xlsx\n",
      "C:\\Users\\12112\\Documents\\工单\\柳州片区_柳城_工单明细.xlsx\n",
      "C:\\Users\\12112\\Documents\\工单\\柳州片区_鹿寨_工单明细.xlsx\n",
      "C:\\Users\\12112\\Documents\\工单\\桂林片区_桂林_工单明细.xlsx\n",
      "C:\\Users\\12112\\Documents\\工单\\桂林片区_永福_工单明细.xlsx\n",
      "C:\\Users\\12112\\Documents\\工单\\桂林片区_阳朔_工单明细.xlsx\n",
      "C:\\Users\\12112\\Documents\\工单\\桂林片区_兴安_工单明细.xlsx\n",
      "C:\\Users\\12112\\Documents\\工单\\桂林片区_资源_工单明细.xlsx\n",
      "C:\\Users\\12112\\Documents\\工单\\桂林片区_龙胜_工单明细.xlsx\n",
      "C:\\Users\\12112\\Documents\\工单\\桂林片区_灵川_工单明细.xlsx\n",
      "C:\\Users\\12112\\Documents\\工单\\桂林片区_临桂_工单明细.xlsx\n",
      "C:\\Users\\12112\\Documents\\工单\\桂林片区_荔浦_工单明细.xlsx\n",
      "C:\\Users\\12112\\Documents\\工单\\桂林片区_灌阳_工单明细.xlsx\n",
      "C:\\Users\\12112\\Documents\\工单\\桂林片区_全州_工单明细.xlsx\n",
      "C:\\Users\\12112\\Documents\\工单\\桂林片区_平乐_工单明细.xlsx\n",
      "C:\\Users\\12112\\Documents\\工单\\桂林片区_恭城_工单明细.xlsx\n",
      "C:\\Users\\12112\\Documents\\工单\\梧州片区_梧州_工单明细.xlsx\n",
      "C:\\Users\\12112\\Documents\\工单\\梧州片区_藤县_工单明细.xlsx\n",
      "C:\\Users\\12112\\Documents\\工单\\梧州片区_蒙山_工单明细.xlsx\n",
      "C:\\Users\\12112\\Documents\\工单\\梧州片区_岑溪_工单明细.xlsx\n",
      "C:\\Users\\12112\\Documents\\工单\\钦州片区_钦州_工单明细.xlsx\n",
      "C:\\Users\\12112\\Documents\\工单\\钦州片区_浦北_工单明细.xlsx\n",
      "C:\\Users\\12112\\Documents\\工单\\钦州片区_灵山_工单明细.xlsx\n",
      "C:\\Users\\12112\\Documents\\工单\\北海片区_北海_工单明细.xlsx\n",
      "C:\\Users\\12112\\Documents\\工单\\北海片区_合浦_工单明细.xlsx\n",
      "C:\\Users\\12112\\Documents\\工单\\防城港片区_防城港_工单明细.xlsx\n",
      "C:\\Users\\12112\\Documents\\工单\\防城港片区_上思_工单明细.xlsx\n",
      "C:\\Users\\12112\\Documents\\工单\\防城港片区_东兴_工单明细.xlsx\n",
      "C:\\Users\\12112\\Documents\\工单\\贵港片区_贵港_工单明细.xlsx\n",
      "C:\\Users\\12112\\Documents\\工单\\贵港片区_桂平_工单明细.xlsx\n",
      "C:\\Users\\12112\\Documents\\工单\\贵港片区_平南_工单明细.xlsx\n",
      "C:\\Users\\12112\\Documents\\工单\\玉林片区_玉林_工单明细.xlsx\n"
     ]
    },
    {
     "name": "stderr",
     "output_type": "stream",
     "text": [
      "\n",
      "KeyboardInterrupt\n",
      "\n"
     ]
    }
   ],
   "source": [
    "import pymysql\n",
    "import pandas as pd\n",
    "import numpy as np\n",
    "# 打开数据库连接\n",
    "dbcon = pymysql.connect(host='10.0.28.20',user='root',passwd='root96335',charset='UTF8',db='gdata')\n",
    "sql_area = 'select * from area'\n",
    "sql_whgd = 'select * from 维护工单抽取'\n",
    "sql_sgd = 'select * from 施工单明细'\n",
    "sql_tsgd = 'select * from 投诉工单抽取'\n",
    "\n",
    "df_whgd = pd.read_sql(sql_whgd, dbcon)\n",
    "df_sgd = pd.read_sql(sql_sgd, dbcon)\n",
    "df_tsgd = pd.read_sql(sql_tsgd, dbcon)\n",
    "df_area = pd.read_sql(sql_area, dbcon)\n",
    "\n",
    "# 拆分后的文件放置位置，路径的最后一个字符如果是斜杠会报错\n",
    "result_path =  r'C:\\Users\\12112\\Documents\\工单'\n",
    "\n",
    "# 获取拆分条件：area表中的分公司名称\n",
    "area_list = df_area['分公司']\n",
    "# 按条件拆分后分别保存新的Excel文件\n",
    "for area in area_list:\n",
    "    # 按所属区域选择多行\n",
    "    sheet_whgd = df_whgd[df_whgd['所属区域处理2'] == area]\n",
    "    sheet_sgd = df_sgd[df_sgd['所属区域处理2'] == area]\n",
    "    sheet_tsgd = df_tsgd[df_tsgd['所属区域处理2'] == area]\n",
    "    pqarea = df_area[df_area['分公司'] == area]['地区']\n",
    "    pq = pqarea.to_list()\n",
    "    excelpath = result_path + '\\\\' + pq[0] +'片区_'+ area + '_工单明细.xlsx'\n",
    "    print(excelpath)\n",
    "    writer = pd.ExcelWriter(excelpath,engine='xlsxwriter')\n",
    "    sheet_whgd.to_excel(writer,sheet_name='维护工单明细',index = False)\n",
    "    sheet_sgd.to_excel(writer,sheet_name='施工单明细',index = False)\n",
    "    sheet_tsgd.to_excel(writer,sheet_name='投诉工单明细',index = False)\n",
    "    writer.save()\n",
    "print('拆分完成')\n",
    "# 关闭数据库连接\n",
    "dbcon.close()"
   ]
  },
  {
   "cell_type": "code",
   "execution_count": null,
   "metadata": {},
   "outputs": [],
   "source": []
  }
 ],
 "metadata": {
  "kernelspec": {
   "display_name": "Python 3",
   "language": "python",
   "name": "python3"
  },
  "language_info": {
   "codemirror_mode": {
    "name": "ipython",
    "version": 3
   },
   "file_extension": ".py",
   "mimetype": "text/x-python",
   "name": "python",
   "nbconvert_exporter": "python",
   "pygments_lexer": "ipython3",
   "version": "3.7.1"
  },
  "toc-autonumbering": true
 },
 "nbformat": 4,
 "nbformat_minor": 2
}
